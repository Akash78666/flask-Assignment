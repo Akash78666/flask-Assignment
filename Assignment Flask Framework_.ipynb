{
 "cells": [
  {
   "cell_type": "markdown",
   "id": "20a8990e-8ace-4c8e-bebb-d3f2e1037a31",
   "metadata": {},
   "source": [
    "1. What is Flask Framework? What are the advantages of Flask Framework?\n",
    "Ans:-Flask is a micro web framework written in Python. It is classified as a microframework because it does not require particular tools or libraries. It has no database abstraction layer, form validation, or any other components where pre-existing third-party libraries provide common functions.\n",
    "\n",
    "                                      Advantages of Flask-based systems\n",
    "higher flexibility.\n",
    "higher compatibility with latest technologies.\n",
    "high scalability for simple web applications.\n",
    "technical experimentation.\n",
    "customization.\n",
    "slightly higher framework performance.\n",
    "easier to use for simple cases.\n",
    "smaller size of the code base"
   ]
  },
  {
   "cell_type": "code",
   "execution_count": null,
   "id": "a8011c3c-6267-4b43-a3b2-c8143d5acc08",
   "metadata": {},
   "outputs": [],
   "source": [
    "from flask import Flask\n",
    "\n",
    "app = Flask(__name__)\n",
    "\n",
    "@app.route(\"/hello\")\n",
    "def hello_world():\n",
    "    return \"<h1>Hello, World!</h1>\"\n",
    "\n",
    "if __name__==\"__main__\":\n",
    "    app.run(host=\"0.0.0.0\")"
   ]
  },
  {
   "cell_type": "code",
   "execution_count": null,
   "id": "c767d622-866f-4845-bdd4-b80cb935b7a5",
   "metadata": {},
   "outputs": [],
   "source": [
    "What is App routing in Flask? Why do we use app routes?\n",
    "Ans:-App Routing means mapping the URLs to a specific function that will handle the logic for that URL. Modern web frameworks use more meaningful URLs to help users remember the URLs and make navigation simpler. Example: In our application, the URL (“/”) is associated with the root URL"
   ]
  },
  {
   "cell_type": "code",
   "execution_count": null,
   "id": "93ba05cc-6fc1-4d16-9492-4af8868d347f",
   "metadata": {},
   "outputs": [],
   "source": [
    "from flask import Flask\n",
    "from flask import request\n",
    "\n",
    "app = Flask(__name__)\n",
    "\n",
    "@app.route(\"/welcome\")\n",
    "def welcome_message():\n",
    "    return \"<h1>Welcome to ABC Corporation!</h1>\"\n",
    "\n",
    "@app.route(\"/Company\")\n",
    "def Company_message():\n",
    "    return \"<h1>Company Name:ABC Corportation!</h1>\"\n",
    "\n",
    "@app.route(\"/Location\")\n",
    "def Location_message():\n",
    "    return \"<h1>Location:India!</h1>\"\n",
    "\n",
    "\n",
    "@app.route(\"/Contact\")\n",
    "def Contact_message():\n",
    "    return \"<h1>Contact detail:9999999999!</h1>\"\n",
    "\n",
    "\n",
    "\n",
    "\n",
    "\n",
    "\n",
    "\n",
    "if __name__==\"__main__\":\n",
    "    app.run(host=\"0.0.0.0\")\n"
   ]
  },
  {
   "cell_type": "markdown",
   "id": "d7f6f5f9-e93e-4891-8d7a-46767c241a17",
   "metadata": {},
   "source": [
    " What function is used in Flask for URL Building? Write a Python code to demonstrate the working of the \n",
    "url_for() function.\n",
    "Ans:-To build a URL to a specific function, use the url_for() function. It accepts the name of the function as its first argument and any number of keyword arguments, each corresponding to a variable part of the URL rule\n"
   ]
  },
  {
   "cell_type": "code",
   "execution_count": null,
   "id": "2006bed2-46f0-44c9-aeaf-a9bd6f703fc2",
   "metadata": {},
   "outputs": [],
   "source": [
    "from flask import Flask\n",
    "from flask import url_for\n",
    "\n",
    "app = Flask(__name__)\n",
    "\n",
    "@app.route(\"/\")\n",
    "def Hello_world():\n",
    "    return \"<h1> </h1><h1>Company Name:ABC Corportation!</h1><h1>Location:India</h1><h1>Contact detail:9999999999</h1>\"\n",
    "\n",
    "@app.route(\"/Welcome\")\n",
    "def Welcome():\n",
    "    return \"Welcome to ABC Corporation\"\n",
    "\n",
    "with app.test_request_context():\n",
    "    print(url_for('Welcome'))\n",
    "\n",
    "\n",
    "@app.route(\"/Contact\")\n",
    "def Contact_message():\n",
    "    return \"<h1>Contact detail:9999999999!</h1>\"\n",
    "\n",
    "\n",
    "\n",
    "\n",
    "\n",
    "\n",
    "\n",
    "if __name__==\"__main__\":\n",
    "    app.run(host=\"0.0.0.0\")\n"
   ]
  }
 ],
 "metadata": {
  "kernelspec": {
   "display_name": "Python 3 (ipykernel)",
   "language": "python",
   "name": "python3"
  },
  "language_info": {
   "codemirror_mode": {
    "name": "ipython",
    "version": 3
   },
   "file_extension": ".py",
   "mimetype": "text/x-python",
   "name": "python",
   "nbconvert_exporter": "python",
   "pygments_lexer": "ipython3",
   "version": "3.10.8"
  }
 },
 "nbformat": 4,
 "nbformat_minor": 5
}
